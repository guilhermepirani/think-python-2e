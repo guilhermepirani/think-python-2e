{
  "nbformat": 4,
  "nbformat_minor": 0,
  "metadata": {
    "colab": {
      "name": "Cap_08.ipynb",
      "provenance": []
    },
    "kernelspec": {
      "name": "python3",
      "display_name": "Python 3"
    }
  },
  "cells": [
    {
      "cell_type": "markdown",
      "metadata": {
        "id": "8Pm3sm_etKWO"
      },
      "source": [
        "# **Exercise 1** "
      ]
    },
    {
      "cell_type": "markdown",
      "metadata": {
        "id": "IgtYGOiUtN3a"
      },
      "source": [
        "Read the documentation of the string methods at http://docs.python.org/3/library/stdtypes.html#string-methods. \r\n",
        "\r\n",
        "You might want to experiment with some of them to make sure you understand how they work. strip and replace are particularly useful.\r\n",
        "\r\n",
        "*The documentation uses a syntax that might be confusing. For example, in find(sub[, start[, end]]), the brackets indicate optional arguments. So sub is required, but start is optional, and if you include start, then end is optional.*"
      ]
    },
    {
      "cell_type": "code",
      "metadata": {
        "id": "cMdFIXgks1TI"
      },
      "source": [
        ""
      ],
      "execution_count": null,
      "outputs": []
    },
    {
      "cell_type": "markdown",
      "metadata": {
        "id": "HatBWNRDtb1C"
      },
      "source": [
        "# **Exercise 2**"
      ]
    },
    {
      "cell_type": "markdown",
      "metadata": {
        "id": "sgf0LpGdtjKt"
      },
      "source": [
        "There is a string method called count that is similar to the function in Section 8.7. Read the documentation of this method and write an invocation that counts the number of a’s in 'banana'."
      ]
    },
    {
      "cell_type": "code",
      "metadata": {
        "id": "J1c-gAbdteE-",
        "colab": {
          "base_uri": "https://localhost:8080/"
        },
        "outputId": "dedb3a67-f67e-4dd5-ba28-bcf27e4f9291"
      },
      "source": [
        "s = 'banana'\r\n",
        "print(s.count('a'))"
      ],
      "execution_count": null,
      "outputs": [
        {
          "output_type": "stream",
          "text": [
            "3\n"
          ],
          "name": "stdout"
        }
      ]
    },
    {
      "cell_type": "markdown",
      "metadata": {
        "id": "K8esz30Ftn9B"
      },
      "source": [
        "# **Exercise 3**"
      ]
    },
    {
      "cell_type": "markdown",
      "metadata": {
        "id": "5xRhae1Mtqlu"
      },
      "source": [
        "A string slice can take a third index that specifies the “step size”; that is, the number of spaces between successive characters. A step size of 2 means every other character; 3 means every third, etc.\r\n",
        "```\r\n",
        ">>> fruit = 'banana'\r\n",
        ">>> fruit[0:5:2]\r\n",
        "'bnn'\r\n",
        "```\r\n",
        "A step size of -1 goes through the word backwards, so the slice [::-1] generates a reversed string.\r\n",
        "\r\n",
        "Use this idiom to write a one-line version of is_palindrome from Exercise 3."
      ]
    },
    {
      "cell_type": "code",
      "metadata": {
        "id": "gIe8hnSot6OC"
      },
      "source": [
        "is_palindrome = lambda word : word == word[::-1]"
      ],
      "execution_count": null,
      "outputs": []
    },
    {
      "cell_type": "code",
      "metadata": {
        "colab": {
          "base_uri": "https://localhost:8080/"
        },
        "id": "dpoqzeTM-JdM",
        "outputId": "c336bfa3-bf42-4d33-d8dd-18f05f2917c0"
      },
      "source": [
        "print(is_palindrome('guilherme'))\r\n",
        "print(is_palindrome('ana'))\r\n",
        "print(is_palindrome('noon'))\r\n",
        "print(is_palindrome('redivider'))"
      ],
      "execution_count": null,
      "outputs": [
        {
          "output_type": "stream",
          "text": [
            "False\n",
            "True\n",
            "True\n",
            "True\n"
          ],
          "name": "stdout"
        }
      ]
    },
    {
      "cell_type": "markdown",
      "metadata": {
        "id": "ONTDximG-f1i"
      },
      "source": [
        ""
      ]
    },
    {
      "cell_type": "markdown",
      "metadata": {
        "id": "S9ZyxXNOt8cG"
      },
      "source": [
        "# **Exercise 4**"
      ]
    },
    {
      "cell_type": "markdown",
      "metadata": {
        "id": "vvCpCGePuAvk"
      },
      "source": [
        "The following functions are all intended to check whether a string contains any lowercase letters, but at least some of them are wrong.\r\n",
        "\r\n",
        "For each function, describe what the function actually does (assuming that the parameter is a string).\r\n",
        "```\r\n",
        "def any_lowercase1(s):\r\n",
        "    for c in s:\r\n",
        "        if c.islower():\r\n",
        "            return True\r\n",
        "        else:\r\n",
        "            return False\r\n",
        "\r\n",
        "def any_lowercase2(s):\r\n",
        "    for c in s:\r\n",
        "        if 'c'.islower():\r\n",
        "            return 'True'\r\n",
        "        else:\r\n",
        "            return 'False'\r\n",
        "\r\n",
        "def any_lowercase3(s):\r\n",
        "    for c in s:\r\n",
        "        flag = c.islower()\r\n",
        "    return flag\r\n",
        "\r\n",
        "def any_lowercase4(s):\r\n",
        "    flag = False\r\n",
        "    for c in s:\r\n",
        "        flag = flag or c.islower()\r\n",
        "    return flag\r\n",
        "\r\n",
        "def any_lowercase5(s):\r\n",
        "    for c in s:\r\n",
        "        if not c.islower():\r\n",
        "            return False\r\n",
        "    return True\r\n",
        "```"
      ]
    },
    {
      "cell_type": "code",
      "metadata": {
        "id": "wyG-Y_det--F",
        "colab": {
          "base_uri": "https://localhost:8080/"
        },
        "outputId": "4e647b03-28ab-4c78-d9d9-42dae2f56e93"
      },
      "source": [
        "def any_lowercase1(s):\r\n",
        "    for c in s:\r\n",
        "        if c.islower():\r\n",
        "            return True\r\n",
        "        else:\r\n",
        "            return False\r\n",
        "\r\n",
        "print(any_lowercase1('lowercase'))\r\n",
        "print(any_lowercase1('Uppercase'))"
      ],
      "execution_count": 5,
      "outputs": [
        {
          "output_type": "stream",
          "text": [
            "True\n",
            "False\n"
          ],
          "name": "stdout"
        }
      ]
    },
    {
      "cell_type": "markdown",
      "metadata": {
        "id": "gbmVpDKVoiR5"
      },
      "source": [
        "The error here is in the logic of the function. It returns a result after the 1st check, so it can only check the first letter."
      ]
    },
    {
      "cell_type": "code",
      "metadata": {
        "id": "6PPco3_Dkqz0"
      },
      "source": [
        "def any_lowercase2(s):\r\n",
        "    for c in s:\r\n",
        "        if 'c'.islower():\r\n",
        "            return 'True'\r\n",
        "        else:\r\n",
        "            return 'False'\r\n"
      ],
      "execution_count": 8,
      "outputs": []
    },
    {
      "cell_type": "markdown",
      "metadata": {
        "id": "7PcvJfpOk3FR"
      },
      "source": [
        "This function has a logic error. The result will always be True, as it's not checking if c is lowercase but checking a string 'c', which never changes. Demonstration below:"
      ]
    },
    {
      "cell_type": "code",
      "metadata": {
        "colab": {
          "base_uri": "https://localhost:8080/"
        },
        "id": "Dy98xlw6n7Oi",
        "outputId": "5db3c45c-9976-447d-dfc6-b8650b7f1096"
      },
      "source": [
        "print(any_lowercase2('lowercase'))\r\n",
        "print(any_lowercase2('Uppercase'))\r\n",
        "print(any_lowercase2('doesnt'))\r\n",
        "print(any_lowercase2('matter'))"
      ],
      "execution_count": 9,
      "outputs": [
        {
          "output_type": "stream",
          "text": [
            "True\n",
            "True\n",
            "True\n",
            "True\n"
          ],
          "name": "stdout"
        }
      ]
    },
    {
      "cell_type": "code",
      "metadata": {
        "id": "-fpIqsqLo_7n"
      },
      "source": [
        "def any_lowercase3(s):\r\n",
        "    for c in s:\r\n",
        "        flag = c.islower()\r\n",
        "    return flag"
      ],
      "execution_count": 11,
      "outputs": []
    },
    {
      "cell_type": "markdown",
      "metadata": {
        "id": "vT-rDjxTpUx3"
      },
      "source": [
        "This function also has a logic error. It creates a temp variable called flag which changes with every iteration through the string, then return the variable. By this design the last letter defines the return."
      ]
    },
    {
      "cell_type": "code",
      "metadata": {
        "colab": {
          "base_uri": "https://localhost:8080/"
        },
        "id": "-6Z4kieCpGsc",
        "outputId": "2d4b9e74-b07c-40e1-e517-56f8d018b989"
      },
      "source": [
        "print(any_lowercase3('lowercase'))\r\n",
        "print(any_lowercase3('UPPERCASE'))\r\n",
        "print(any_lowercase3('lasT'))\r\n",
        "print(any_lowercase3('MATTEr'))"
      ],
      "execution_count": 14,
      "outputs": [
        {
          "output_type": "stream",
          "text": [
            "True\n",
            "False\n",
            "False\n",
            "True\n"
          ],
          "name": "stdout"
        }
      ]
    },
    {
      "cell_type": "code",
      "metadata": {
        "id": "8eT86EOwqjTg"
      },
      "source": [
        "def any_lowercase4(s):\r\n",
        "    flag = False\r\n",
        "    for c in s:\r\n",
        "        flag = flag or c.islower()\r\n",
        "    return flag"
      ],
      "execution_count": 16,
      "outputs": []
    },
    {
      "cell_type": "markdown",
      "metadata": {
        "id": "k_8titimqwd4"
      },
      "source": [
        "Work same as 3, but defining flag as False before the loop and then only changing it to True as it encounter a lowercase letter. The fact that there's no way flag changes back to False after it becomes True is why this function works as intended."
      ]
    },
    {
      "cell_type": "code",
      "metadata": {
        "colab": {
          "base_uri": "https://localhost:8080/"
        },
        "id": "XrWSntBwrW2C",
        "outputId": "7d9c2d4d-702a-4c0e-d2c6-cc399fe9981c"
      },
      "source": [
        "print(any_lowercase4('lowercase'))\r\n",
        "print(any_lowercase4('UPPERCASE'))\r\n",
        "print(any_lowercase4('WOrKS'))\r\n",
        "print(any_lowercase4('FINE'))"
      ],
      "execution_count": 18,
      "outputs": [
        {
          "output_type": "stream",
          "text": [
            "True\n",
            "False\n",
            "True\n",
            "False\n"
          ],
          "name": "stdout"
        }
      ]
    },
    {
      "cell_type": "code",
      "metadata": {
        "id": "wCVwef7SqvHf"
      },
      "source": [
        "def any_lowercase5(s):\r\n",
        "    for c in s:\r\n",
        "        if not c.islower():\r\n",
        "            return False\r\n",
        "    return True"
      ],
      "execution_count": 19,
      "outputs": []
    },
    {
      "cell_type": "markdown",
      "metadata": {
        "id": "-enpyootrx7L"
      },
      "source": [
        "This one only returns as expected if all the letters are lowercase. The logic problem is that it returns False when iterating by the first uppercase letter independently of its position."
      ]
    },
    {
      "cell_type": "code",
      "metadata": {
        "colab": {
          "base_uri": "https://localhost:8080/"
        },
        "id": "MgZVhYC4ruqe",
        "outputId": "4d30f5d2-691d-4cf5-bc1c-840cc3544f7c"
      },
      "source": [
        "print(any_lowercase5('any'))\r\n",
        "print(any_lowercase5('UPPERCASE'))\r\n",
        "print(any_lowercase5('breakS'))\r\n",
        "print(any_lowercase5('lOgic'))"
      ],
      "execution_count": 24,
      "outputs": [
        {
          "output_type": "stream",
          "text": [
            "True\n",
            "False\n",
            "False\n",
            "False\n"
          ],
          "name": "stdout"
        }
      ]
    },
    {
      "cell_type": "markdown",
      "metadata": {
        "id": "cWWn256GuJXD"
      },
      "source": [
        "# **Exercise 5**"
      ]
    },
    {
      "cell_type": "markdown",
      "metadata": {
        "id": "cyTMninxuWjQ"
      },
      "source": [
        "*A Caesar cypher is a weak form of encryption that involves “rotating” each letter by a fixed number of places. To rotate a letter means to shift it through the alphabet, wrapping around to the beginning if necessary, so ’A’ rotated by 3 is ’D’ and ’Z’ rotated by 1 is ’A’.*\r\n",
        "\r\n",
        "*To rotate a word, rotate each letter by the same amount. For example, “cheer” rotated by 7 is “jolly” and “melon” rotated by -10 is “cubed”. In the movie 2001: A Space Odyssey, the ship computer is called HAL, which is IBM rotated by -1.*\r\n",
        "\r\n",
        "Write a function called rotate_word that takes a string and an integer as parameters, and returns a new string that contains the letters from the original string rotated by the given amount.\r\n",
        "\r\n",
        "*You might want to use the built-in function ord, which converts a character to a numeric code, and chr, which converts numeric codes to characters. Letters of the alphabet are encoded in alphabetical order, so for example:*\r\n",
        "```\r\n",
        ">>> ord('c') - ord('a')\r\n",
        "2\r\n",
        "```\r\n",
        "*Because 'c' is the two-eth letter of the alphabet. But beware: the numeric codes for upper case letters are different.*\r\n",
        "\r\n",
        "*Potentially offensive jokes on the Internet are sometimes encoded in ROT13, which is a Caesar cypher with rotation 13. If you are not easily offended, find and decode some of them.*\r\n",
        "\r\n",
        "*Solution: http://thinkpython2.com/code/rotate.py.*"
      ]
    },
    {
      "cell_type": "code",
      "metadata": {
        "id": "uK_WPRcruMkd"
      },
      "source": [
        "def ceasar_cypher(letter, key):\r\n",
        "    '''rotates the alphabet by given key'''\r\n",
        "    if letter.isupper():\r\n",
        "        first = ord('A')\r\n",
        "    elif letter.islower():\r\n",
        "        first = ord('a')\r\n",
        "    else:\r\n",
        "        return letter\r\n",
        "\r\n",
        "    pos = ord(letter) - first\r\n",
        "    new_pos = (pos + key) % 26 + first\r\n",
        "    return chr(new_pos)\r\n",
        "\r\n",
        "def rotate_word(word, key):\r\n",
        "    \"\"\"Cyphers word by given key\"\"\"\r\n",
        "    cypher = \"\"\r\n",
        "    for letter in word:\r\n",
        "        cypher += ceasar_cypher(letter, key)\r\n",
        "    return cypher"
      ],
      "execution_count": null,
      "outputs": []
    },
    {
      "cell_type": "code",
      "metadata": {
        "colab": {
          "base_uri": "https://localhost:8080/"
        },
        "id": "dH4mkhTLI6id",
        "outputId": "42c8f779-8374-4b09-8be5-de54b2d700d9"
      },
      "source": [
        "print(rotate_word('cheer', 7))\r\n",
        "print(rotate_word('melon', -10))\r\n",
        "print(rotate_word('IBM', -1))"
      ],
      "execution_count": null,
      "outputs": [
        {
          "output_type": "stream",
          "text": [
            "jolly\n",
            "cubed\n",
            "HAL\n"
          ],
          "name": "stdout"
        }
      ]
    }
  ]
}