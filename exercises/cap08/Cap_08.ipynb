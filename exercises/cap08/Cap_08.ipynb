{
  "nbformat": 4,
  "nbformat_minor": 0,
  "metadata": {
    "colab": {
      "name": "Cap_08.ipynb",
      "provenance": []
    },
    "kernelspec": {
      "name": "python3",
      "display_name": "Python 3"
    }
  },
  "cells": [
    {
      "cell_type": "markdown",
      "metadata": {
        "id": "8Pm3sm_etKWO"
      },
      "source": [
        "# **Exercise 1** "
      ]
    },
    {
      "cell_type": "markdown",
      "metadata": {
        "id": "IgtYGOiUtN3a"
      },
      "source": [
        "Read the documentation of the string methods at http://docs.python.org/3/library/stdtypes.html#string-methods. \r\n",
        "\r\n",
        "You might want to experiment with some of them to make sure you understand how they work. strip and replace are particularly useful.\r\n",
        "\r\n",
        "*The documentation uses a syntax that might be confusing. For example, in find(sub[, start[, end]]), the brackets indicate optional arguments. So sub is required, but start is optional, and if you include start, then end is optional.*"
      ]
    },
    {
      "cell_type": "code",
      "metadata": {
        "id": "cMdFIXgks1TI"
      },
      "source": [
        ""
      ],
      "execution_count": null,
      "outputs": []
    },
    {
      "cell_type": "markdown",
      "metadata": {
        "id": "HatBWNRDtb1C"
      },
      "source": [
        "# **Exercise 2**"
      ]
    },
    {
      "cell_type": "markdown",
      "metadata": {
        "id": "sgf0LpGdtjKt"
      },
      "source": [
        "There is a string method called count that is similar to the function in Section 8.7. Read the documentation of this method and write an invocation that counts the number of a’s in 'banana'."
      ]
    },
    {
      "cell_type": "code",
      "metadata": {
        "id": "J1c-gAbdteE-"
      },
      "source": [
        ""
      ],
      "execution_count": null,
      "outputs": []
    },
    {
      "cell_type": "markdown",
      "metadata": {
        "id": "K8esz30Ftn9B"
      },
      "source": [
        "# **Exercise 3**"
      ]
    },
    {
      "cell_type": "markdown",
      "metadata": {
        "id": "5xRhae1Mtqlu"
      },
      "source": [
        "A string slice can take a third index that specifies the “step size”; that is, the number of spaces between successive characters. A step size of 2 means every other character; 3 means every third, etc.\r\n",
        "```\r\n",
        ">>> fruit = 'banana'\r\n",
        ">>> fruit[0:5:2]\r\n",
        "'bnn'\r\n",
        "```\r\n",
        "A step size of -1 goes through the word backwards, so the slice [::-1] generates a reversed string.\r\n",
        "\r\n",
        "Use this idiom to write a one-line version of is_palindrome from Exercise 3."
      ]
    },
    {
      "cell_type": "code",
      "metadata": {
        "id": "gIe8hnSot6OC"
      },
      "source": [
        ""
      ],
      "execution_count": null,
      "outputs": []
    },
    {
      "cell_type": "markdown",
      "metadata": {
        "id": "S9ZyxXNOt8cG"
      },
      "source": [
        "# **Exercise 4**"
      ]
    },
    {
      "cell_type": "markdown",
      "metadata": {
        "id": "vvCpCGePuAvk"
      },
      "source": [
        "The following functions are all intended to check whether a string contains any lowercase letters, but at least some of them are wrong.\r\n",
        "\r\n",
        "For each function, describe what the function actually does (assuming that the parameter is a string).\r\n",
        "```\r\n",
        "def any_lowercase1(s):\r\n",
        "    for c in s:\r\n",
        "        if c.islower():\r\n",
        "            return True\r\n",
        "        else:\r\n",
        "            return False\r\n",
        "\r\n",
        "def any_lowercase2(s):\r\n",
        "    for c in s:\r\n",
        "        if 'c'.islower():\r\n",
        "            return 'True'\r\n",
        "        else:\r\n",
        "            return 'False'\r\n",
        "\r\n",
        "def any_lowercase3(s):\r\n",
        "    for c in s:\r\n",
        "        flag = c.islower()\r\n",
        "    return flag\r\n",
        "\r\n",
        "def any_lowercase4(s):\r\n",
        "    flag = False\r\n",
        "    for c in s:\r\n",
        "        flag = flag or c.islower()\r\n",
        "    return flag\r\n",
        "\r\n",
        "def any_lowercase5(s):\r\n",
        "    for c in s:\r\n",
        "        if not c.islower():\r\n",
        "            return False\r\n",
        "    return True\r\n",
        "```"
      ]
    },
    {
      "cell_type": "code",
      "metadata": {
        "id": "wyG-Y_det--F"
      },
      "source": [
        ""
      ],
      "execution_count": null,
      "outputs": []
    },
    {
      "cell_type": "markdown",
      "metadata": {
        "id": "cWWn256GuJXD"
      },
      "source": [
        "# **Exercise 5**"
      ]
    },
    {
      "cell_type": "markdown",
      "metadata": {
        "id": "cyTMninxuWjQ"
      },
      "source": [
        "*A Caesar cypher is a weak form of encryption that involves “rotating” each letter by a fixed number of places. To rotate a letter means to shift it through the alphabet, wrapping around to the beginning if necessary, so ’A’ rotated by 3 is ’D’ and ’Z’ rotated by 1 is ’A’.*\r\n",
        "\r\n",
        "*To rotate a word, rotate each letter by the same amount. For example, “cheer” rotated by 7 is “jolly” and “melon” rotated by -10 is “cubed”. In the movie 2001: A Space Odyssey, the ship computer is called HAL, which is IBM rotated by -1.*\r\n",
        "\r\n",
        "Write a function called rotate_word that takes a string and an integer as parameters, and returns a new string that contains the letters from the original string rotated by the given amount.\r\n",
        "\r\n",
        "*You might want to use the built-in function ord, which converts a character to a numeric code, and chr, which converts numeric codes to characters. Letters of the alphabet are encoded in alphabetical order, so for example:*\r\n",
        "```\r\n",
        ">>> ord('c') - ord('a')\r\n",
        "2\r\n",
        "```\r\n",
        "*Because 'c' is the two-eth letter of the alphabet. But beware: the numeric codes for upper case letters are different.*\r\n",
        "\r\n",
        "*Potentially offensive jokes on the Internet are sometimes encoded in ROT13, which is a Caesar cypher with rotation 13. If you are not easily offended, find and decode some of them.*\r\n",
        "\r\n",
        "*Solution: http://thinkpython2.com/code/rotate.py.*"
      ]
    },
    {
      "cell_type": "code",
      "metadata": {
        "id": "uK_WPRcruMkd"
      },
      "source": [
        ""
      ],
      "execution_count": null,
      "outputs": []
    }
  ]
}