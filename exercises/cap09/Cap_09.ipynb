{
  "nbformat": 4,
  "nbformat_minor": 0,
  "metadata": {
    "colab": {
      "name": "Cap_09.ipynb",
      "provenance": []
    },
    "kernelspec": {
      "name": "python3",
      "display_name": "Python 3"
    }
  },
  "cells": [
    {
      "cell_type": "markdown",
      "metadata": {
        "id": "BGhdDQiJ9ldA"
      },
      "source": [
        "# **9.2  Exercises**"
      ]
    },
    {
      "cell_type": "markdown",
      "metadata": {
        "id": "V6ybYfBM9pNp"
      },
      "source": [
        "### Exercise 1"
      ]
    },
    {
      "cell_type": "markdown",
      "metadata": {
        "id": "SZmHFg639tsu"
      },
      "source": [
        "Write a program that reads words.txt and prints only the words with more than 20 characters (not counting whitespace)."
      ]
    },
    {
      "cell_type": "code",
      "metadata": {
        "id": "FUNxE_v-9129"
      },
      "source": [
        ""
      ],
      "execution_count": null,
      "outputs": []
    },
    {
      "cell_type": "markdown",
      "metadata": {
        "id": "cW6AfZ8G9zwU"
      },
      "source": [
        "### Exercise 2"
      ]
    },
    {
      "cell_type": "markdown",
      "metadata": {
        "id": "GdQMmbyE91TM"
      },
      "source": [
        "*In 1939 Ernest Vincent Wright published a 50,000 word novel called Gadsby that does not contain the letter “e”. Since “e” is the most common letter in English, that’s not easy to do.*\r\n",
        "\r\n",
        "*In fact, it is difficult to construct a solitary thought without using that most common symbol. It is slow going at first, but with caution and hours of training you can gradually gain facility.*\r\n",
        "\r\n",
        "*All right, I’ll stop now.*\r\n",
        "\r\n",
        "Write a function called has_no_e that returns True if the given word doesn’t have the letter “e” in it.\r\n"
      ]
    },
    {
      "cell_type": "code",
      "metadata": {
        "id": "lS1VAE1u-IkW"
      },
      "source": [
        ""
      ],
      "execution_count": null,
      "outputs": []
    },
    {
      "cell_type": "markdown",
      "metadata": {
        "id": "GGk8SCTg-HxA"
      },
      "source": [
        "Write a program that reads words.txt and prints only the words that have no “e”. Compute the percentage of words in the list that have no “e”."
      ]
    },
    {
      "cell_type": "code",
      "metadata": {
        "id": "fTlHdpga-I-4"
      },
      "source": [
        ""
      ],
      "execution_count": null,
      "outputs": []
    },
    {
      "cell_type": "markdown",
      "metadata": {
        "id": "gP9QOklP-Jhg"
      },
      "source": [
        "### Exercise 3"
      ]
    },
    {
      "cell_type": "markdown",
      "metadata": {
        "id": "KhbFUmMF-N-4"
      },
      "source": [
        "Write a function named avoids that takes a word and a string of forbidden letters, and that returns True if the word doesn’t use any of the forbidden letters."
      ]
    },
    {
      "cell_type": "markdown",
      "metadata": {
        "id": "XNKAoyoF-N0o"
      },
      "source": [
        "Write a program that prompts the user to enter a string of forbidden letters and then prints the number of words that don’t contain any of them. Can you find a combination of 5 forbidden letters that excludes the smallest number of words?"
      ]
    },
    {
      "cell_type": "code",
      "metadata": {
        "id": "XBfh-J1D_r2O"
      },
      "source": [
        ""
      ],
      "execution_count": null,
      "outputs": []
    },
    {
      "cell_type": "markdown",
      "metadata": {
        "id": "HKzuM3DY-Ssl"
      },
      "source": [
        "### Exercise 4"
      ]
    },
    {
      "cell_type": "markdown",
      "metadata": {
        "id": "vUatE7gI-VKV"
      },
      "source": [
        "Write a function named uses_only that takes a word and a string of letters, and that returns True if the word contains only letters in the list. Can you make a sentence using only the letters acefhlo? Other than “Hoe alfalfa”?"
      ]
    },
    {
      "cell_type": "code",
      "metadata": {
        "id": "jj3lnm6Q_s_T"
      },
      "source": [
        ""
      ],
      "execution_count": null,
      "outputs": []
    },
    {
      "cell_type": "markdown",
      "metadata": {
        "id": "9zecL24h-Xtc"
      },
      "source": [
        "### Exercise 5"
      ]
    },
    {
      "cell_type": "markdown",
      "metadata": {
        "id": "hcEMpcBn-bK3"
      },
      "source": [
        "Write a function named uses_all that takes a word and a string of required letters, and that returns True if the word uses all the required letters at least once. How many words are there that use all the vowels aeiou? How about aeiouy?"
      ]
    },
    {
      "cell_type": "code",
      "metadata": {
        "id": "XcmQHGYm_tgA"
      },
      "source": [
        ""
      ],
      "execution_count": null,
      "outputs": []
    },
    {
      "cell_type": "markdown",
      "metadata": {
        "id": "qlnoZ5Hc-eyj"
      },
      "source": [
        "### Exercise 6"
      ]
    },
    {
      "cell_type": "markdown",
      "metadata": {
        "id": "5-gH8acU-gqv"
      },
      "source": [
        "Write a function called is_abecedarian that returns True if the letters in a word appear in alphabetical order (double letters are ok). How many abecedarian words are there?"
      ]
    },
    {
      "cell_type": "code",
      "metadata": {
        "id": "1qHR4tYd_uDU"
      },
      "source": [
        ""
      ],
      "execution_count": null,
      "outputs": []
    },
    {
      "cell_type": "markdown",
      "metadata": {
        "id": "o5X4qkgd-ib8"
      },
      "source": [
        "# **9.7  Exercises**"
      ]
    },
    {
      "cell_type": "markdown",
      "metadata": {
        "id": "ZD7Rudy7-ntJ"
      },
      "source": [
        "### Exercise 7"
      ]
    },
    {
      "cell_type": "markdown",
      "metadata": {
        "id": "M5qQrs_W-qvO"
      },
      "source": [
        "*This question is based on a Puzzler that was broadcast on the radio program Car Talk (http://www.cartalk.com/content/puzzlers):*\r\n",
        "\r\n",
        "*Give me a word with three consecutive double letters. I’ll give you a couple of words that almost qualify, but don’t. For example, the word committee, c-o-m-m-i-t-t-e-e. It would be great except for the ‘i’ that sneaks in there. Or Mississippi: M-i-s-s-i-s-s-i-p-p-i. If you could take out those i’s it would work. But there is a word that has three consecutive pairs of letters and to the best of my knowledge this may be the only word. Of course there are probably 500 more but I can only think of one. What is the word?*\r\n",
        "\r\n",
        "Write a program to find it. \r\n",
        "\r\n",
        "*Solution: http://thinkpython2.com/code/cartalk1.py.*"
      ]
    },
    {
      "cell_type": "code",
      "metadata": {
        "id": "lz2C89Eu9jQJ"
      },
      "source": [
        ""
      ],
      "execution_count": null,
      "outputs": []
    },
    {
      "cell_type": "markdown",
      "metadata": {
        "id": "m2qRrYEE_Sf6"
      },
      "source": [
        "### Exercise 8"
      ]
    },
    {
      "cell_type": "markdown",
      "metadata": {
        "id": "hfbJBGjX_Uio"
      },
      "source": [
        "*Here’s another Car Talk Puzzler (http://www.cartalk.com/content/puzzlers):*\r\n",
        "\r\n",
        "*“I was driving on the highway the other day and I happened to notice my odometer. Like most odometers, it shows six digits, in whole miles only. So, if my car had 300,000 miles, for example, I’d see 3-0-0-0-0-0.\r\n",
        "“Now, what I saw that day was very interesting. I noticed that the last 4 digits were palindromic; that is, they read the same forward as backward. For example, 5-4-4-5 is a palindrome, so my odometer could have read 3-1-5-4-4-5.*\r\n",
        "\r\n",
        "*“One mile later, the last 5 numbers were palindromic. For example, it could have read 3-6-5-4-5-6. One mile after that, the middle 4 out of 6 numbers were palindromic. And you ready for this? One mile later, all 6 were palindromic!*\r\n",
        "\r\n",
        "*“The question is, what was on the odometer when I first looked?”*\r\n",
        "\r\n",
        "Write a Python program that tests all the six-digit numbers and prints any numbers that satisfy these requirements. \r\n",
        "\r\n",
        "*Solution: http://thinkpython2.com/code/cartalk2.py.*"
      ]
    },
    {
      "cell_type": "code",
      "metadata": {
        "id": "fzdhOOZf_o3M"
      },
      "source": [
        ""
      ],
      "execution_count": null,
      "outputs": []
    },
    {
      "cell_type": "markdown",
      "metadata": {
        "id": "B1E8HzIv-42W"
      },
      "source": [
        "### Exercise 9"
      ]
    },
    {
      "cell_type": "markdown",
      "metadata": {
        "id": "u4YYFGm8--Zr"
      },
      "source": [
        "*Here’s another Car Talk Puzzler you can solve with a search (http://www.cartalk.com/content/puzzlers):*\r\n",
        "\r\n",
        "*“Recently I had a visit with my mom and we realized that the two digits that make up my age when reversed resulted in her age. For example, if she’s 73, I’m 37. We wondered how often this has happened over the years but we got sidetracked with other topics and we never came up with an answer.\r\n",
        "“When I got home I figured out that the digits of our ages have been reversible six times so far. I also figured out that if we’re lucky it would happen again in a few years, and if we’re really lucky it would happen one more time after that. In other words, it would have happened 8 times over all. So the question is, how old am I now?”*\r\n",
        "\r\n",
        "Write a Python program that searches for solutions to this Puzzler. Hint: you might find the string method zfill useful.\r\n",
        "\r\n",
        "*Solution: http://thinkpython2.com/code/cartalk3.py.*"
      ]
    },
    {
      "cell_type": "code",
      "metadata": {
        "id": "dcaYC4ye-9YP"
      },
      "source": [
        ""
      ],
      "execution_count": null,
      "outputs": []
    }
  ]
}