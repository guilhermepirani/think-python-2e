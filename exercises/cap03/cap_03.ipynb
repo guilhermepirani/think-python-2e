{
  "nbformat": 4,
  "nbformat_minor": 0,
  "metadata": {
    "colab": {
      "name": "cap_03.ipynb",
      "provenance": []
    },
    "kernelspec": {
      "name": "python3",
      "display_name": "Python 3"
    }
  },
  "cells": [
    {
      "cell_type": "markdown",
      "metadata": {
        "id": "yxyUuAyHhsnN"
      },
      "source": [
        "# **Exercise 1**"
      ]
    },
    {
      "cell_type": "markdown",
      "metadata": {
        "id": "qvNzUO8Jh-HF"
      },
      "source": [
        "### 1) Write a function named right_justify that takes a string named s as a parameter and prints the string with enough leading spaces so that the last letter of the string is in column 70 of the display.\r\n",
        "```\r\n",
        ">>> right_justify('monty')\"\r\n",
        "                                                                 monty\r\n",
        "```\r\n",
        "Hint: Use string concatenation and repetition. Also, Python provides a built-in function called len that returns the length of a string, so the value of len('monty') is 5."
      ]
    },
    {
      "cell_type": "code",
      "metadata": {
        "colab": {
          "base_uri": "https://localhost:8080/"
        },
        "id": "Jf8vtPvihpEe",
        "outputId": "063d08c7-6947-47ea-a469-295a960ac4e8"
      },
      "source": [
        "def right_justify(s):\r\n",
        "    print(\" \" * (70 - len(s)) + s)\r\n",
        "\r\n",
        "right_justify(\"monty\")"
      ],
      "execution_count": 20,
      "outputs": [
        {
          "output_type": "stream",
          "text": [
            "                                                                 monty\n"
          ],
          "name": "stdout"
        }
      ]
    },
    {
      "cell_type": "markdown",
      "metadata": {
        "id": "0Cyn7er2kRSZ"
      },
      "source": [
        "# **Exercise 2**"
      ]
    },
    {
      "cell_type": "markdown",
      "metadata": {
        "id": "rnIfdyR8kYhk"
      },
      "source": [
        "A function object is a value you can assign to a variable or pass as an argument. For example, do_twice is a function that takes a function object as an argument and calls it twice:\r\n",
        "```\r\n",
        "def do_twice(f):\r\n",
        "    f()\r\n",
        "    f()\r\n",
        "```\r\n",
        "Here’s an example that uses do_twice to call a function named print_spam twice.\r\n",
        "```\r\n",
        "def print_spam():\r\n",
        "    print('spam')\r\n",
        "\r\n",
        "do_twice(print_spam)\r\n",
        "```"
      ]
    },
    {
      "cell_type": "markdown",
      "metadata": {
        "id": "S8vW_eu3kjPW"
      },
      "source": [
        "### 1) Type this example into a script and test it."
      ]
    },
    {
      "cell_type": "code",
      "metadata": {
        "colab": {
          "base_uri": "https://localhost:8080/"
        },
        "id": "oEw2z8pCjJgn",
        "outputId": "abe81df4-5820-4309-8b2d-3ae6a5eb5e94"
      },
      "source": [
        "def do_twice(f):\r\n",
        "    f()\r\n",
        "    f()\r\n",
        "    \r\n",
        "def print_spam():\r\n",
        "    print('spam')\r\n",
        " \r\n",
        "do_twice(print_spam)"
      ],
      "execution_count": 21,
      "outputs": [
        {
          "output_type": "stream",
          "text": [
            "spam\n",
            "spam\n"
          ],
          "name": "stdout"
        }
      ]
    },
    {
      "cell_type": "markdown",
      "metadata": {
        "id": "yyy4ISO7k5rY"
      },
      "source": [
        "### 2) Modify do_twice so that it takes two arguments, a function object and a value, and calls the function twice, passing the value as an argument."
      ]
    },
    {
      "cell_type": "code",
      "metadata": {
        "id": "VcIOeg-1krD8"
      },
      "source": [
        "def do_twice(f, v):\r\n",
        "    f(v)\r\n",
        "    f(v)"
      ],
      "execution_count": 22,
      "outputs": []
    },
    {
      "cell_type": "markdown",
      "metadata": {
        "id": "TefzJVq4nEin"
      },
      "source": [
        "### 3) Copy the definition of print_twice from earlier in this chapter to your script."
      ]
    },
    {
      "cell_type": "code",
      "metadata": {
        "id": "iv-inX7ElU6Q"
      },
      "source": [
        "def print_twice(bruce):\r\n",
        "    print(bruce)\r\n",
        "    print(bruce)"
      ],
      "execution_count": 23,
      "outputs": []
    },
    {
      "cell_type": "markdown",
      "metadata": {
        "id": "gSltZAdWnaop"
      },
      "source": [
        "### 4) Use the modified version of do_twice to call print_twice twice, passing 'spam' as an argument."
      ]
    },
    {
      "cell_type": "code",
      "metadata": {
        "colab": {
          "base_uri": "https://localhost:8080/"
        },
        "id": "NymkOoernaM3",
        "outputId": "5b5fd58e-f915-4499-d905-eea414f743cc"
      },
      "source": [
        "do_twice(print_twice, \"spam\")"
      ],
      "execution_count": 24,
      "outputs": [
        {
          "output_type": "stream",
          "text": [
            "spam\n",
            "spam\n",
            "spam\n",
            "spam\n"
          ],
          "name": "stdout"
        }
      ]
    },
    {
      "cell_type": "markdown",
      "metadata": {
        "id": "zKsAAZZIpDOd"
      },
      "source": [
        "### 5) Define a new function called do_four that takes a function object and a value and calls the function four times, passing the value as a parameter. There should be only two statements in the body of this function, not four."
      ]
    },
    {
      "cell_type": "code",
      "metadata": {
        "id": "BBS6rfPFnwfT"
      },
      "source": [
        "def do_four(f, v):\r\n",
        "    do_twice(f, v)\r\n",
        "    do_twice(f, v)"
      ],
      "execution_count": 25,
      "outputs": []
    },
    {
      "cell_type": "code",
      "metadata": {
        "colab": {
          "base_uri": "https://localhost:8080/"
        },
        "id": "_0W6DKklqcIC",
        "outputId": "d357e691-959c-42c4-fb67-504f5ff2e5ff"
      },
      "source": [
        "do_four(print, 'spam')"
      ],
      "execution_count": 26,
      "outputs": [
        {
          "output_type": "stream",
          "text": [
            "spam\n",
            "spam\n",
            "spam\n",
            "spam\n"
          ],
          "name": "stdout"
        }
      ]
    },
    {
      "cell_type": "markdown",
      "metadata": {
        "id": "yuQ9dESOrQKf"
      },
      "source": [
        "# **Exercise 3**"
      ]
    },
    {
      "cell_type": "markdown",
      "metadata": {
        "id": "rsSGpaRnCW9b"
      },
      "source": [
        "Note: This exercise should be done using only the statements and other features we have learned so far."
      ]
    },
    {
      "cell_type": "markdown",
      "metadata": {
        "id": "6XF6vYGECZvj"
      },
      "source": [
        "### 1) Write a function that draws a grid like the following:"
      ]
    },
    {
      "cell_type": "markdown",
      "metadata": {
        "id": "gfoWaSVDCgI8"
      },
      "source": [
        "```\r\n",
        "+ - - - - + - - - - +      \r\n",
        "|         |         |\r\n",
        "|         |         |\r\n",
        "|         |         |\r\n",
        "|         |         |\r\n",
        "+ - - - - + - - - - +\r\n",
        "|         |         |\r\n",
        "|         |         |\r\n",
        "|         |         |\r\n",
        "|         |         |\r\n",
        "+ - - - - + - - - - +\r\n",
        "```\r\n",
        "Hint: to print more than one value on a line, you can print a comma-separated sequence of values: <br>\r\n",
        "```\r\n",
        "print('+', '-')\r\n",
        "```\r\n",
        "By default, print advances to the next line, but you can override that behavior and put a space at the end, like this:\r\n",
        "```\r\n",
        "print('+', end=' ')\r\n",
        "print('-')\r\n",
        "```\r\n",
        "The output of these statements is '+ -' on the same line. The output from the next print statement would begin on the next line.\r\n"
      ]
    },
    {
      "cell_type": "code",
      "metadata": {
        "id": "js01_xWWq9-T"
      },
      "source": [
        "def do_twice(f):\r\n",
        "    f()\r\n",
        "    f()\r\n",
        "\r\n",
        "def do_four(f):\r\n",
        "    do_twice(f)\r\n",
        "    do_twice(f)\r\n",
        "\r\n",
        "def section_hor():\r\n",
        "    print(\"+ - - - -\", end=\" \")\r\n",
        "\r\n",
        "def section_ver():\r\n",
        "    print(\"|\" + \" \" * 8, end=\" \")\r\n",
        "\r\n",
        "def print_line():\r\n",
        "    do_twice(section_hor)\r\n",
        "    print(\"+\")\r\n",
        "\r\n",
        "def print_column():\r\n",
        "    do_twice(section_ver)\r\n",
        "    print(\"|\")\r\n",
        "\r\n",
        "def print_row():\r\n",
        "    print_line()\r\n",
        "    do_four(print_column)\r\n",
        "\r\n",
        "def print_grid():\r\n",
        "    do_twice(print_row)\r\n",
        "    print_line()"
      ],
      "execution_count": 163,
      "outputs": []
    },
    {
      "cell_type": "code",
      "metadata": {
        "colab": {
          "base_uri": "https://localhost:8080/"
        },
        "id": "BlKran45D8Aw",
        "outputId": "95fe5e80-625b-4750-db83-7600a936a2e6"
      },
      "source": [
        "print_grid()"
      ],
      "execution_count": 164,
      "outputs": [
        {
          "output_type": "stream",
          "text": [
            "+ - - - - + - - - - +\n",
            "|         |         |\n",
            "|         |         |\n",
            "|         |         |\n",
            "|         |         |\n",
            "+ - - - - + - - - - +\n",
            "|         |         |\n",
            "|         |         |\n",
            "|         |         |\n",
            "|         |         |\n",
            "+ - - - - + - - - - +\n"
          ],
          "name": "stdout"
        }
      ]
    },
    {
      "cell_type": "markdown",
      "metadata": {
        "id": "M6q9gEICVefL"
      },
      "source": [
        "### 2) Write a function that draws a similar grid with four rows and four columns."
      ]
    },
    {
      "cell_type": "code",
      "metadata": {
        "id": "jTjQIHthD_ID"
      },
      "source": [
        "def print_b_line():\r\n",
        "    do_four(section_hor)\r\n",
        "    print(\"+\")\r\n",
        "\r\n",
        "def print_b_column():\r\n",
        "    do_four(section_ver)\r\n",
        "    print(\"|\")\r\n",
        "\r\n",
        "def print_b_row():\r\n",
        "    print_b_line()\r\n",
        "    do_four(print_b_column)\r\n",
        "\r\n",
        "def print_b_grid():\r\n",
        "    do_four(print_b_row)\r\n",
        "    print_b_line()"
      ],
      "execution_count": 171,
      "outputs": []
    },
    {
      "cell_type": "code",
      "metadata": {
        "colab": {
          "base_uri": "https://localhost:8080/"
        },
        "id": "q523BW2GVqXi",
        "outputId": "972af890-047c-4ce3-e25a-3880afeab7ec"
      },
      "source": [
        "print_b_grid()"
      ],
      "execution_count": 172,
      "outputs": [
        {
          "output_type": "stream",
          "text": [
            "+ - - - - + - - - - + - - - - + - - - - +\n",
            "|         |         |         |         |\n",
            "|         |         |         |         |\n",
            "|         |         |         |         |\n",
            "|         |         |         |         |\n",
            "+ - - - - + - - - - + - - - - + - - - - +\n",
            "|         |         |         |         |\n",
            "|         |         |         |         |\n",
            "|         |         |         |         |\n",
            "|         |         |         |         |\n",
            "+ - - - - + - - - - + - - - - + - - - - +\n",
            "|         |         |         |         |\n",
            "|         |         |         |         |\n",
            "|         |         |         |         |\n",
            "|         |         |         |         |\n",
            "+ - - - - + - - - - + - - - - + - - - - +\n",
            "|         |         |         |         |\n",
            "|         |         |         |         |\n",
            "|         |         |         |         |\n",
            "|         |         |         |         |\n",
            "+ - - - - + - - - - + - - - - + - - - - +\n"
          ],
          "name": "stdout"
        }
      ]
    }
  ]
}