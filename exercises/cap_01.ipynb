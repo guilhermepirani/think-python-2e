{
  "nbformat": 4,
  "nbformat_minor": 0,
  "metadata": {
    "colab": {
      "name": "cap-01.ipynb",
      "provenance": [],
      "collapsed_sections": [
        "TMhvDCJO9nrp",
        "aPTwXvfA9uXs",
        "RY2zXKZJ-tWw",
        "BOcjsrnWAGh9",
        "5hxWVCKmBHrI",
        "zgXPKRHYEptM"
      ]
    },
    "kernelspec": {
      "name": "python3",
      "display_name": "Python 3"
    }
  },
  "cells": [
    {
      "cell_type": "markdown",
      "metadata": {
        "id": "TMhvDCJO9nrp"
      },
      "source": [
        "# **Exercise 1**\r\n"
      ]
    },
    {
      "cell_type": "markdown",
      "metadata": {
        "id": "woVJ3JLE9qK_"
      },
      "source": [
        "It is a good idea to read this book in front of a computer so you can try out \r\n",
        "the examples as you go.\r\n",
        "\r\n",
        "Whenever you are experimenting with a new feature,\r\n",
        "you should try to make mistakes. For example, in the “Hello, world!” program,\r\n",
        "what happens if you leave out one of the quotation marks?\r\n",
        "What if you leave out both? What if you spell print wrong?\r\n",
        "\r\n",
        "This kind of experiment helps you remember what you read;\r\n",
        "it also helps when you are programming,\r\n",
        "because you get to know what the error messages mean. \r\n",
        "It is better to make mistakes now and on purpose than later and accidentally."
      ]
    },
    {
      "cell_type": "markdown",
      "metadata": {
        "id": "aPTwXvfA9uXs"
      },
      "source": [
        "### 1) In a print statement, what happens if you leave out one of the parentheses, or both?"
      ]
    },
    {
      "cell_type": "code",
      "metadata": {
        "colab": {
          "base_uri": "https://localhost:8080/",
          "height": 129
        },
        "id": "WhnmoLhx9iNb",
        "outputId": "b08be48f-7b06-4dc7-a221-eb910236b0ef"
      },
      "source": [
        " print (\"hello, error!\""
      ],
      "execution_count": 2,
      "outputs": [
        {
          "output_type": "error",
          "ename": "SyntaxError",
          "evalue": "ignored",
          "traceback": [
            "\u001b[0;36m  File \u001b[0;32m\"<ipython-input-2-6f7b3d68c1ab>\"\u001b[0;36m, line \u001b[0;32m1\u001b[0m\n\u001b[0;31m    print (\"hello, error!\"\u001b[0m\n\u001b[0m                          ^\u001b[0m\n\u001b[0;31mSyntaxError\u001b[0m\u001b[0;31m:\u001b[0m unexpected EOF while parsing\n"
          ]
        }
      ]
    },
    {
      "cell_type": "markdown",
      "metadata": {
        "id": "UvBgppad-HzT"
      },
      "source": [
        "Unexpected EOF means the interpreter expected the file to continue, that happenned because I never closed parentheses after openning it."
      ]
    },
    {
      "cell_type": "code",
      "metadata": {
        "colab": {
          "base_uri": "https://localhost:8080/",
          "height": 129
        },
        "id": "02WXqfEK99IJ",
        "outputId": "7816fc53-e51e-437f-981e-1b300fd5962a"
      },
      "source": [
        " print \"hello, error!\""
      ],
      "execution_count": 3,
      "outputs": [
        {
          "output_type": "error",
          "ename": "SyntaxError",
          "evalue": "ignored",
          "traceback": [
            "\u001b[0;36m  File \u001b[0;32m\"<ipython-input-3-148288fdea3b>\"\u001b[0;36m, line \u001b[0;32m1\u001b[0m\n\u001b[0;31m    print \"hello, error!\"\u001b[0m\n\u001b[0m                        ^\u001b[0m\n\u001b[0;31mSyntaxError\u001b[0m\u001b[0;31m:\u001b[0m Missing parentheses in call to 'print'. Did you mean print(\"hello, error!\")?\n"
          ]
        }
      ]
    },
    {
      "cell_type": "markdown",
      "metadata": {
        "id": "kaQqvHro-YSE"
      },
      "source": [
        "In this case the error clearly explains why the syntax is incorrect."
      ]
    },
    {
      "cell_type": "markdown",
      "metadata": {
        "id": "RY2zXKZJ-tWw"
      },
      "source": [
        "### 2) If you are trying to print a string, what happens if you leave out one of the quotation marks, or both?"
      ]
    },
    {
      "cell_type": "code",
      "metadata": {
        "colab": {
          "base_uri": "https://localhost:8080/",
          "height": 163
        },
        "id": "mK_SE3e2-Gxk",
        "outputId": "8c94e073-879e-427a-d025-485c30467440"
      },
      "source": [
        "print (hello)"
      ],
      "execution_count": 7,
      "outputs": [
        {
          "output_type": "error",
          "ename": "NameError",
          "evalue": "ignored",
          "traceback": [
            "\u001b[0;31m---------------------------------------------------------------------------\u001b[0m",
            "\u001b[0;31mNameError\u001b[0m                                 Traceback (most recent call last)",
            "\u001b[0;32m<ipython-input-7-fcd6f0176134>\u001b[0m in \u001b[0;36m<module>\u001b[0;34m()\u001b[0m\n\u001b[0;32m----> 1\u001b[0;31m \u001b[0mprint\u001b[0m \u001b[0;34m(\u001b[0m\u001b[0mhello\u001b[0m\u001b[0;34m)\u001b[0m\u001b[0;34m\u001b[0m\u001b[0;34m\u001b[0m\u001b[0m\n\u001b[0m",
            "\u001b[0;31mNameError\u001b[0m: name 'hello' is not defined"
          ]
        }
      ]
    },
    {
      "cell_type": "markdown",
      "metadata": {
        "id": "JkilWbKH_AKz"
      },
      "source": [
        "Leaving a single word inside the parentheses without quotes makes the interpreter think it's handling a variable, which in this casa doesn't exist. The code below should make it work."
      ]
    },
    {
      "cell_type": "code",
      "metadata": {
        "colab": {
          "base_uri": "https://localhost:8080/"
        },
        "id": "-Yb6YQ7q_mni",
        "outputId": "7ca4bf03-a6b2-49e4-b46c-34ecb1dcc143"
      },
      "source": [
        "hello = \"Hello, world!\"\r\n",
        "print(hello)"
      ],
      "execution_count": 8,
      "outputs": [
        {
          "output_type": "stream",
          "text": [
            "Hello, world!\n"
          ],
          "name": "stdout"
        }
      ]
    },
    {
      "cell_type": "code",
      "metadata": {
        "colab": {
          "base_uri": "https://localhost:8080/",
          "height": 129
        },
        "id": "kVcZ6KgZ-9XZ",
        "outputId": "fd7e86cd-6600-41ae-823a-093fd1572c25"
      },
      "source": [
        "print (\"hello, error!)"
      ],
      "execution_count": 5,
      "outputs": [
        {
          "output_type": "error",
          "ename": "SyntaxError",
          "evalue": "ignored",
          "traceback": [
            "\u001b[0;36m  File \u001b[0;32m\"<ipython-input-5-c268439d466a>\"\u001b[0;36m, line \u001b[0;32m1\u001b[0m\n\u001b[0;31m    print (\"hello, error!)\u001b[0m\n\u001b[0m                          ^\u001b[0m\n\u001b[0;31mSyntaxError\u001b[0m\u001b[0;31m:\u001b[0m EOL while scanning string literal\n"
          ]
        }
      ]
    },
    {
      "cell_type": "markdown",
      "metadata": {
        "id": "cgOOc0Yz_F7e"
      },
      "source": [
        "Pretty exact in showing the End of Line while reading a string and where it happened. "
      ]
    },
    {
      "cell_type": "markdown",
      "metadata": {
        "id": "BOcjsrnWAGh9"
      },
      "source": [
        "### 3) You can use a minus sign to make a negative number like -2. What happens if you put a plus sign before a number? What about 2++2?"
      ]
    },
    {
      "cell_type": "code",
      "metadata": {
        "colab": {
          "base_uri": "https://localhost:8080/"
        },
        "id": "9ZZnPVuzAR_w",
        "outputId": "c730c573-fa7d-42a0-a600-007a086acba1"
      },
      "source": [
        "+2"
      ],
      "execution_count": 9,
      "outputs": [
        {
          "output_type": "execute_result",
          "data": {
            "text/plain": [
              "2"
            ]
          },
          "metadata": {
            "tags": []
          },
          "execution_count": 9
        }
      ]
    },
    {
      "cell_type": "code",
      "metadata": {
        "colab": {
          "base_uri": "https://localhost:8080/"
        },
        "id": "enF7CxQCAVAU",
        "outputId": "a13c8be6-14f4-46d3-86d0-c41ce1bd16cd"
      },
      "source": [
        "2++2"
      ],
      "execution_count": 10,
      "outputs": [
        {
          "output_type": "execute_result",
          "data": {
            "text/plain": [
              "4"
            ]
          },
          "metadata": {
            "tags": []
          },
          "execution_count": 10
        }
      ]
    },
    {
      "cell_type": "code",
      "metadata": {
        "colab": {
          "base_uri": "https://localhost:8080/"
        },
        "id": "LtyDmxejAXKs",
        "outputId": "41e2e0bd-1a8c-4b08-d669-972b014e336a"
      },
      "source": [
        "+-2"
      ],
      "execution_count": 11,
      "outputs": [
        {
          "output_type": "execute_result",
          "data": {
            "text/plain": [
              "-2"
            ]
          },
          "metadata": {
            "tags": []
          },
          "execution_count": 11
        }
      ]
    },
    {
      "cell_type": "code",
      "metadata": {
        "colab": {
          "base_uri": "https://localhost:8080/"
        },
        "id": "1p8AwdfRAZO8",
        "outputId": "a86a4f96-da65-4121-95d7-edcd6ce7e679"
      },
      "source": [
        "+2-2"
      ],
      "execution_count": 12,
      "outputs": [
        {
          "output_type": "execute_result",
          "data": {
            "text/plain": [
              "0"
            ]
          },
          "metadata": {
            "tags": []
          },
          "execution_count": 12
        }
      ]
    },
    {
      "cell_type": "code",
      "metadata": {
        "colab": {
          "base_uri": "https://localhost:8080/"
        },
        "id": "P-uXzKHFAgb0",
        "outputId": "7e00099f-6473-4587-b89f-a94e41e8f231"
      },
      "source": [
        "-+2"
      ],
      "execution_count": 13,
      "outputs": [
        {
          "output_type": "execute_result",
          "data": {
            "text/plain": [
              "-2"
            ]
          },
          "metadata": {
            "tags": []
          },
          "execution_count": 13
        }
      ]
    },
    {
      "cell_type": "markdown",
      "metadata": {
        "id": "8qXQongaAmeX"
      },
      "source": [
        "Just like in math the + seems to be inherent to the number, so writing 2 or +2 is interpreted as the same number. The behavior change according when we add other tokens to the syntax, relatively to the language rules."
      ]
    },
    {
      "cell_type": "markdown",
      "metadata": {
        "id": "5hxWVCKmBHrI"
      },
      "source": [
        "### 4) In math notation, leading zeros are ok, as in 09. What happens if you try this in Python? What about 011?"
      ]
    },
    {
      "cell_type": "code",
      "metadata": {
        "colab": {
          "base_uri": "https://localhost:8080/",
          "height": 129
        },
        "id": "6iA2bmRqBNgr",
        "outputId": "8366d557-d527-4de6-c72b-672ff631818c"
      },
      "source": [
        "09"
      ],
      "execution_count": 14,
      "outputs": [
        {
          "output_type": "error",
          "ename": "SyntaxError",
          "evalue": "ignored",
          "traceback": [
            "\u001b[0;36m  File \u001b[0;32m\"<ipython-input-14-9bb4877861be>\"\u001b[0;36m, line \u001b[0;32m1\u001b[0m\n\u001b[0;31m    09\u001b[0m\n\u001b[0m     ^\u001b[0m\n\u001b[0;31mSyntaxError\u001b[0m\u001b[0;31m:\u001b[0m invalid token\n"
          ]
        }
      ]
    },
    {
      "cell_type": "code",
      "metadata": {
        "colab": {
          "base_uri": "https://localhost:8080/",
          "height": 129
        },
        "id": "64KvdOi4BQWk",
        "outputId": "b8d99aeb-f18e-4716-9140-dee2c1b480d0"
      },
      "source": [
        "011"
      ],
      "execution_count": 15,
      "outputs": [
        {
          "output_type": "error",
          "ename": "SyntaxError",
          "evalue": "ignored",
          "traceback": [
            "\u001b[0;36m  File \u001b[0;32m\"<ipython-input-15-2e9780ecac58>\"\u001b[0;36m, line \u001b[0;32m1\u001b[0m\n\u001b[0;31m    011\u001b[0m\n\u001b[0m      ^\u001b[0m\n\u001b[0;31mSyntaxError\u001b[0m\u001b[0;31m:\u001b[0m invalid token\n"
          ]
        }
      ]
    },
    {
      "cell_type": "markdown",
      "metadata": {
        "id": "4SNSRQ8uCCG2"
      },
      "source": [
        "Python 3 has eliminated it by making a leading 0 illegal in all integers (except in the constructs 0x , 0b , 0o to indicate hex, binary and octal notations)"
      ]
    },
    {
      "cell_type": "code",
      "metadata": {
        "colab": {
          "base_uri": "https://localhost:8080/"
        },
        "id": "gFowB3BIBV8D",
        "outputId": "b063e33a-f1ff-4234-e098-2cb3e8b9375f"
      },
      "source": [
        "0x123  # Hex"
      ],
      "execution_count": 27,
      "outputs": [
        {
          "output_type": "execute_result",
          "data": {
            "text/plain": [
              "291"
            ]
          },
          "metadata": {
            "tags": []
          },
          "execution_count": 27
        }
      ]
    },
    {
      "cell_type": "code",
      "metadata": {
        "colab": {
          "base_uri": "https://localhost:8080/"
        },
        "id": "ezDTAEWWD4OF",
        "outputId": "8ad81578-fe9d-40ac-f7e4-9fe9280b354d"
      },
      "source": [
        "0b00010100  # Binary"
      ],
      "execution_count": 41,
      "outputs": [
        {
          "output_type": "execute_result",
          "data": {
            "text/plain": [
              "20"
            ]
          },
          "metadata": {
            "tags": []
          },
          "execution_count": 41
        }
      ]
    },
    {
      "cell_type": "code",
      "metadata": {
        "colab": {
          "base_uri": "https://localhost:8080/"
        },
        "id": "gVLTND1jB_u0",
        "outputId": "55bab974-45d3-4b70-cf4e-470498c440bd"
      },
      "source": [
        "0o1230  # Octal"
      ],
      "execution_count": 42,
      "outputs": [
        {
          "output_type": "execute_result",
          "data": {
            "text/plain": [
              "664"
            ]
          },
          "metadata": {
            "tags": []
          },
          "execution_count": 42
        }
      ]
    },
    {
      "cell_type": "markdown",
      "metadata": {
        "id": "lRTcARznDjBY"
      },
      "source": [
        "Leading 0s that can be ignored in simple math notation are ok and don't throw an error"
      ]
    },
    {
      "cell_type": "code",
      "metadata": {
        "colab": {
          "base_uri": "https://localhost:8080/"
        },
        "id": "qmNYE9SpDfdj",
        "outputId": "e1de6252-5641-4edf-b60c-404cf8b28865"
      },
      "source": [
        "0.56  # Same as\r\n",
        ".56  "
      ],
      "execution_count": 44,
      "outputs": [
        {
          "output_type": "execute_result",
          "data": {
            "text/plain": [
              "0.56"
            ]
          },
          "metadata": {
            "tags": []
          },
          "execution_count": 44
        }
      ]
    },
    {
      "cell_type": "code",
      "metadata": {
        "colab": {
          "base_uri": "https://localhost:8080/"
        },
        "id": "EaZdhZ4vDunD",
        "outputId": "563694fa-0d5e-4d82-d17c-bb330354a2de"
      },
      "source": [
        "000000000000 # Same as"
      ],
      "execution_count": 45,
      "outputs": [
        {
          "output_type": "execute_result",
          "data": {
            "text/plain": [
              "0"
            ]
          },
          "metadata": {
            "tags": []
          },
          "execution_count": 45
        }
      ]
    },
    {
      "cell_type": "code",
      "metadata": {
        "id": "Bg73Qv5sEmQM"
      },
      "source": [
        ""
      ],
      "execution_count": null,
      "outputs": []
    },
    {
      "cell_type": "markdown",
      "metadata": {
        "id": "zgXPKRHYEptM"
      },
      "source": [
        "### 5) What happens if you have two values with no operator between them?"
      ]
    },
    {
      "cell_type": "code",
      "metadata": {
        "colab": {
          "base_uri": "https://localhost:8080/",
          "height": 129
        },
        "id": "ZLbABvJYErDk",
        "outputId": "ebe56a48-1413-4078-db85-2bea8b295f06"
      },
      "source": [
        "2 2"
      ],
      "execution_count": 48,
      "outputs": [
        {
          "output_type": "error",
          "ename": "SyntaxError",
          "evalue": "ignored",
          "traceback": [
            "\u001b[0;36m  File \u001b[0;32m\"<ipython-input-48-ed76b62ef94d>\"\u001b[0;36m, line \u001b[0;32m1\u001b[0m\n\u001b[0;31m    2 2\u001b[0m\n\u001b[0m      ^\u001b[0m\n\u001b[0;31mSyntaxError\u001b[0m\u001b[0;31m:\u001b[0m invalid syntax\n"
          ]
        }
      ]
    },
    {
      "cell_type": "markdown",
      "metadata": {
        "id": "YWiM2XZ5E5Es"
      },
      "source": [
        "Not a valid syntax"
      ]
    },
    {
      "cell_type": "markdown",
      "metadata": {
        "id": "ve0ZbFs6IAsM"
      },
      "source": [
        "# **Exercise 2**"
      ]
    },
    {
      "cell_type": "markdown",
      "metadata": {
        "id": "J646RaHsIVcG"
      },
      "source": [
        "Start the Python interpreter and use it as a calculator.\r\n",
        "Alternatively, I'm using each cell as an entry in the interpreter."
      ]
    },
    {
      "cell_type": "markdown",
      "metadata": {
        "id": "UecexTK9IeEE"
      },
      "source": [
        "### 1) How many seconds are there in 42 minutes 42 seconds?"
      ]
    },
    {
      "cell_type": "code",
      "metadata": {
        "colab": {
          "base_uri": "https://localhost:8080/"
        },
        "id": "9PCTvEDSICIy",
        "outputId": "3c308b77-bea9-403d-f51f-06c8674c91d9"
      },
      "source": [
        "60 * 42 + 42"
      ],
      "execution_count": 49,
      "outputs": [
        {
          "output_type": "execute_result",
          "data": {
            "text/plain": [
              "2562"
            ]
          },
          "metadata": {
            "tags": []
          },
          "execution_count": 49
        }
      ]
    },
    {
      "cell_type": "markdown",
      "metadata": {
        "id": "aIHHgEINJA25"
      },
      "source": [
        "or, if allowed to use variables:\r\n",
        "\r\n"
      ]
    },
    {
      "cell_type": "code",
      "metadata": {
        "colab": {
          "base_uri": "https://localhost:8080/"
        },
        "id": "Ee3Z4xepIqqY",
        "outputId": "aa991a03-7139-4530-821e-a2ce9c16f19f"
      },
      "source": [
        "seconds = 1\r\n",
        "minutes = 60 * seconds\r\n",
        "42 * minutes + 42 * seconds"
      ],
      "execution_count": 54,
      "outputs": [
        {
          "output_type": "execute_result",
          "data": {
            "text/plain": [
              "2562"
            ]
          },
          "metadata": {
            "tags": []
          },
          "execution_count": 54
        }
      ]
    },
    {
      "cell_type": "markdown",
      "metadata": {
        "id": "WziXft1sJ2oR"
      },
      "source": [
        "### 2) How many miles are there in 10 kilometers? Hint: there are 1.61 kilometers in a mile."
      ]
    },
    {
      "cell_type": "code",
      "metadata": {
        "colab": {
          "base_uri": "https://localhost:8080/"
        },
        "id": "6L9EIsDyJRoL",
        "outputId": "5020c02b-fc8c-4256-855a-d34e002a85d5"
      },
      "source": [
        "10 / 1.61"
      ],
      "execution_count": 56,
      "outputs": [
        {
          "output_type": "execute_result",
          "data": {
            "text/plain": [
              "6.211180124223602"
            ]
          },
          "metadata": {
            "tags": []
          },
          "execution_count": 56
        }
      ]
    },
    {
      "cell_type": "markdown",
      "metadata": {
        "id": "6WpvKgHiKmsq"
      },
      "source": [
        "### 3) If you run a 10 kilometer race in 42 minutes 42 seconds, what is your average pace (time per mile in minutes and seconds)? What is your average speed in miles per hour?"
      ]
    },
    {
      "cell_type": "code",
      "metadata": {
        "colab": {
          "base_uri": "https://localhost:8080/"
        },
        "id": "gayb4BvKKhWU",
        "outputId": "fc9dbe22-c6d2-4889-ccd9-ef00eb7541f7"
      },
      "source": [
        "(2562 / (10 / 1.61)) / 60"
      ],
      "execution_count": 75,
      "outputs": [
        {
          "output_type": "execute_result",
          "data": {
            "text/plain": [
              "6.874700000000001"
            ]
          },
          "metadata": {
            "tags": []
          },
          "execution_count": 75
        }
      ]
    },
    {
      "cell_type": "code",
      "metadata": {
        "colab": {
          "base_uri": "https://localhost:8080/"
        },
        "id": "bD1UvQ1DM-2M",
        "outputId": "f1f409f4-320c-4d62-c9aa-c80a229d9a59"
      },
      "source": [
        ".8747 * 60"
      ],
      "execution_count": 88,
      "outputs": [
        {
          "output_type": "execute_result",
          "data": {
            "text/plain": [
              "52.482"
            ]
          },
          "metadata": {
            "tags": []
          },
          "execution_count": 88
        }
      ]
    },
    {
      "cell_type": "markdown",
      "metadata": {
        "id": "M9CMYP0BSPyM"
      },
      "source": [
        "~6:52 minutes to run a mile"
      ]
    },
    {
      "cell_type": "code",
      "metadata": {
        "colab": {
          "base_uri": "https://localhost:8080/"
        },
        "id": "tvj31WsySux0",
        "outputId": "714ed1f9-e95e-41ca-9ca9-901001ea4ea0"
      },
      "source": [
        "60/6.874700000000001"
      ],
      "execution_count": 92,
      "outputs": [
        {
          "output_type": "execute_result",
          "data": {
            "text/plain": [
              "8.727653570337614"
            ]
          },
          "metadata": {
            "tags": []
          },
          "execution_count": 92
        }
      ]
    },
    {
      "cell_type": "markdown",
      "metadata": {
        "id": "_Jv85iDzT_b4"
      },
      "source": [
        "~8.73 mph"
      ]
    }
  ]
}