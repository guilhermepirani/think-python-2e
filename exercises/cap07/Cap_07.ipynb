{
  "nbformat": 4,
  "nbformat_minor": 0,
  "metadata": {
    "colab": {
      "name": "Cap_07.ipynb",
      "provenance": [],
      "collapsed_sections": []
    },
    "kernelspec": {
      "name": "python3",
      "display_name": "Python 3"
    }
  },
  "cells": [
    {
      "cell_type": "markdown",
      "metadata": {
        "id": "npSMg6yl3kT8"
      },
      "source": [
        "# **7.3 The while statement**"
      ]
    },
    {
      "cell_type": "markdown",
      "metadata": {
        "id": "NRZeX0Ah3YOT"
      },
      "source": [
        "### As an exercise, rewrite the function print_n from Section 5.8 using iteration instead of recursion."
      ]
    },
    {
      "cell_type": "code",
      "metadata": {
        "id": "mMWVWwCJ3YHO"
      },
      "source": [
        "def print_n(s, n):\r\n",
        "    while n > 0:\r\n",
        "        n -= 1\r\n",
        "        print(s)"
      ],
      "execution_count": 1,
      "outputs": []
    },
    {
      "cell_type": "code",
      "metadata": {
        "colab": {
          "base_uri": "https://localhost:8080/"
        },
        "id": "9TZvdlkg3RFe",
        "outputId": "69e927ae-ea0b-4619-806d-dce43be1af34"
      },
      "source": [
        "print_n(\"oi\", 3)"
      ],
      "execution_count": 2,
      "outputs": [
        {
          "output_type": "stream",
          "text": [
            "oi\n",
            "oi\n",
            "oi\n"
          ],
          "name": "stdout"
        }
      ]
    },
    {
      "cell_type": "markdown",
      "metadata": {
        "id": "RJfVB4CH49Pp"
      },
      "source": [
        "# **Exercise 1**"
      ]
    },
    {
      "cell_type": "markdown",
      "metadata": {
        "id": "RviI5tvtDHrp"
      },
      "source": [
        "### Copy the loop from Section 7.5 and encapsulate it in a function called mysqrt that takes a as a parameter, chooses a reasonable value of x, and returns an estimate of the square root of a."
      ]
    },
    {
      "cell_type": "code",
      "metadata": {
        "id": "LEh8U1V7DHGa"
      },
      "source": [
        "def mysqrt(a):\r\n",
        "    '''Newton's method to sqrt'''\r\n",
        "    if a % 2 == 0:\r\n",
        "        x = 2\r\n",
        "    else:\r\n",
        "        x = 3\r\n",
        "\r\n",
        "    while True:\r\n",
        "        y = (x + a/x) / 2\r\n",
        "\r\n",
        "        # Breaks if close enough to final value\r\n",
        "        if abs(y-x) < 1e-13:\r\n",
        "            return x\r\n",
        "            break\r\n",
        "            \r\n",
        "        x = y"
      ],
      "execution_count": 248,
      "outputs": []
    },
    {
      "cell_type": "markdown",
      "metadata": {
        "id": "pztOQ-_c5Btw"
      },
      "source": [
        "\r\n",
        "\r\n",
        "### To test it, write a function named test_square_root that prints a table like this:\r\n",
        "```\r\n",
        "a   mysqrt(a)     math.sqrt(a)  diff\r\n",
        "-   ---------     ------------  ----\r\n",
        "1.0 1.0           1.0           0.0\r\n",
        "2.0 1.41421356237 1.41421356237 2.22044604925e-16\r\n",
        "3.0 1.73205080757 1.73205080757 0.0\r\n",
        "4.0 2.0           2.0           0.0\r\n",
        "5.0 2.2360679775  2.2360679775  0.0\r\n",
        "6.0 2.44948974278 2.44948974278 0.0\r\n",
        "7.0 2.64575131106 2.64575131106 0.0\r\n",
        "8.0 2.82842712475 2.82842712475 4.4408920985e-16\r\n",
        "9.0 3.0           3.0           0.0\r\n",
        "```\r\n",
        "The first column is a number, a; the second column is the square root of a computed with mysqrt; the third column is the square root computed by math.sqrt; the fourth column is the absolute value of the difference between the two estimates."
      ]
    },
    {
      "cell_type": "code",
      "metadata": {
        "id": "tvZzJau44I56"
      },
      "source": [
        "import math\r\n",
        "\r\n",
        "def test_square_root(a):\r\n",
        "    '''Tests mysqrt for a range of numbers'''\r\n",
        "    # Table head\r\n",
        "    print(\"a    mysqrt(a)       math.sqrt(a)    diff\")\r\n",
        "    print(\"-    ---------       ------------    ----\")\r\n",
        "\r\n",
        "    for i in a:\r\n",
        "        rt = \"{:.13f}\".format(float(mysqrt(i)))\r\n",
        "        mrt = \"{:.13f}\".format(float(math.sqrt(i)))\r\n",
        "        spc1= \" \" * (3 - len(str(i)))\r\n",
        "        diff = float(rt) - float(mrt)\r\n",
        "        print(i, spc1, rt, mrt, diff)"
      ],
      "execution_count": 259,
      "outputs": []
    },
    {
      "cell_type": "code",
      "metadata": {
        "id": "lfkDm06eDAO5",
        "colab": {
          "base_uri": "https://localhost:8080/"
        },
        "outputId": "3ca846f7-ae26-4a51-f1c2-2adc2fadaa16"
      },
      "source": [
        "test_square_root(range(1, 10))"
      ],
      "execution_count": 260,
      "outputs": [
        {
          "output_type": "stream",
          "text": [
            "a    mysqrt(a)       math.sqrt(a)    diff\n",
            "-    ---------       ------------    ----\n",
            "1    1.0000000000000 1.0000000000000 0.0\n",
            "2    1.4142135623731 1.4142135623731 0.0\n",
            "3    1.7320508075689 1.7320508075689 0.0\n",
            "4    2.0000000000000 2.0000000000000 0.0\n",
            "5    2.2360679774998 2.2360679774998 0.0\n",
            "6    2.4494897427832 2.4494897427832 0.0\n",
            "7    2.6457513110646 2.6457513110646 0.0\n",
            "8    2.8284271247462 2.8284271247462 0.0\n",
            "9    3.0000000000000 3.0000000000000 0.0\n"
          ],
          "name": "stdout"
        }
      ]
    },
    {
      "cell_type": "markdown",
      "metadata": {
        "id": "IhUfdutZ5XvW"
      },
      "source": [
        "# **Exercise 2**"
      ]
    },
    {
      "cell_type": "markdown",
      "metadata": {
        "id": "wgLw2E-R5chD"
      },
      "source": [
        "### The built-in function eval takes a string and evaluates it using the Python interpreter. For example:\r\n",
        "```\r\n",
        ">>> eval('1 + 2 * 3')\r\n",
        "7\r\n",
        ">>> import math\r\n",
        ">>> eval('math.sqrt(5)')\r\n",
        "2.2360679774997898\r\n",
        ">>> eval('type(math.pi)')\r\n",
        "<class 'float'>\r\n",
        "```\r\n",
        "### Write a function called eval_loop that iteratively prompts the user, takes the resulting input and evaluates it using eval, and prints the result.\r\n",
        "\r\n",
        "It should continue until the user enters 'done', and then return the value of the last expression it evaluated."
      ]
    },
    {
      "cell_type": "code",
      "metadata": {
        "id": "La-ro7FA5cME"
      },
      "source": [
        "import math\r\n",
        "\r\n",
        "def eval_loop():\r\n",
        "    while True:\r\n",
        "        text = input(\">>> \")\r\n",
        "        if text == 'done':\r\n",
        "            break\r\n",
        "\r\n",
        "        print(eval(text))\r\n",
        "        continue\r\n",
        "  "
      ],
      "execution_count": 6,
      "outputs": []
    },
    {
      "cell_type": "code",
      "metadata": {
        "colab": {
          "base_uri": "https://localhost:8080/"
        },
        "id": "A_BGysgwndCA",
        "outputId": "cf44753c-72bc-4404-dcdc-f59fd2024b5c"
      },
      "source": [
        "eval_loop()"
      ],
      "execution_count": 262,
      "outputs": [
        {
          "output_type": "stream",
          "text": [
            ">>> \"Hello\" + \" \" + \"World!\"\n",
            "Hello World!\n",
            ">>> 2 + 2 * 3\n",
            "8\n",
            ">>> done\n"
          ],
          "name": "stdout"
        }
      ]
    },
    {
      "cell_type": "markdown",
      "metadata": {
        "id": "wypSfMYg5rjD"
      },
      "source": [
        "# **Exercise 3**"
      ]
    },
    {
      "cell_type": "markdown",
      "metadata": {
        "id": "QHiTWJbE5uBL"
      },
      "source": [
        "The mathematician Srinivasa Ramanujan found an infinite series that can be used to generate a numerical approximation of 1 / π:\r\n",
        "\r\n",
        "![formula.png](data:image/png;base64,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)\r\n",
        "\r\n",
        "### Write a function called estimate_pi that uses this formula to compute and return an estimate of π. It should use a while loop to compute terms of the summation until the last term is smaller than 1e-15 (which is Python notation for 10−15).\r\n",
        "You can check the result by comparing it to math.pi. <br>\r\n",
        "Solution: http://thinkpython2.com/code/pi.py."
      ]
    },
    {
      "cell_type": "code",
      "metadata": {
        "id": "AwqAC6Ma5tiw",
        "colab": {
          "base_uri": "https://localhost:8080/"
        },
        "outputId": "0ee5eae8-2f28-449e-8005-29317e39120d"
      },
      "source": [
        "import math\r\n",
        "\r\n",
        "# Code by Allen Downey\r\n",
        "def factorial(n):\r\n",
        "    '''Gets factorial of n'''\r\n",
        "    if n == 0:\r\n",
        "        return 1\r\n",
        "    else:\r\n",
        "        fac = factorial(n - 1)\r\n",
        "        return n * fac\r\n",
        "\r\n",
        "def estimate_pi():\r\n",
        "    '''Code to Srinivasa Ramanujan formula'''\r\n",
        "    total = 0\r\n",
        "    k = 0\r\n",
        "    factor = 2 * math.sqrt(2) / 9801\r\n",
        "    while True:\r\n",
        "        numerator = factorial(4*k) * (1103 + 26390*k)\r\n",
        "        denominator = factorial(k)**4 * 396**(4*k)\r\n",
        "        term = factor * numerator / denominator\r\n",
        "        total += term\r\n",
        "        \r\n",
        "        if abs(term) < 1e-15:\r\n",
        "            break\r\n",
        "        k += 1\r\n",
        "\r\n",
        "    return 1 / total\r\n",
        "\r\n",
        "print(estimate_pi())"
      ],
      "execution_count": 267,
      "outputs": [
        {
          "output_type": "stream",
          "text": [
            "3.141592653589793\n"
          ],
          "name": "stdout"
        }
      ]
    }
  ]
}